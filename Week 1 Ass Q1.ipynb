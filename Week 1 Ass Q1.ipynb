{
 "cells": [
  {
   "cell_type": "code",
   "execution_count": 1,
   "id": "df824c5c-d8cf-49e0-b511-b136edcab30e",
   "metadata": {},
   "outputs": [],
   "source": [
    "# Creating Variables in python"
   ]
  },
  {
   "cell_type": "code",
   "execution_count": 2,
   "id": "1b98276b-77c5-4bbe-aa05-8f4d4b24933c",
   "metadata": {},
   "outputs": [],
   "source": [
    "#String\n",
    "name='Vaibhav'"
   ]
  },
  {
   "cell_type": "code",
   "execution_count": 6,
   "id": "c4505f26-9993-4595-97f7-f3826d27e967",
   "metadata": {},
   "outputs": [],
   "source": [
    "#list\n",
    "mylist=list()"
   ]
  },
  {
   "cell_type": "code",
   "execution_count": null,
   "id": "4a719f08-aa06-44c2-94f2-cb74da9b1123",
   "metadata": {},
   "outputs": [],
   "source": [
    "#float\n",
    "radius=4.77"
   ]
  },
  {
   "cell_type": "code",
   "execution_count": 4,
   "id": "a7e58b0b-4203-4f90-941a-0d22e982e0a3",
   "metadata": {},
   "outputs": [],
   "source": [
    "#tuple\n",
    "t123=tuple()"
   ]
  }
 ],
 "metadata": {
  "kernelspec": {
   "display_name": "Python 3 (ipykernel)",
   "language": "python",
   "name": "python3"
  },
  "language_info": {
   "codemirror_mode": {
    "name": "ipython",
    "version": 3
   },
   "file_extension": ".py",
   "mimetype": "text/x-python",
   "name": "python",
   "nbconvert_exporter": "python",
   "pygments_lexer": "ipython3",
   "version": "3.10.8"
  }
 },
 "nbformat": 4,
 "nbformat_minor": 5
}
