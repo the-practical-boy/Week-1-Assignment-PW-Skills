{
 "cells": [
  {
   "cell_type": "code",
   "execution_count": 4,
   "id": "2d09a9ac-0ab4-486f-9c70-7f8863005752",
   "metadata": {},
   "outputs": [],
   "source": [
    "l=[1,\"Potato\",3,'aq',7,True,7.99,-29,'&']"
   ]
  },
  {
   "cell_type": "code",
   "execution_count": null,
   "id": "830dca01-7c3f-49eb-8019-6a00bdae6a88",
   "metadata": {},
   "outputs": [],
   "source": [
    "for i in l:\n",
    "    print(type();)"
   ]
  }
 ],
 "metadata": {
  "kernelspec": {
   "display_name": "Python 3 (ipykernel)",
   "language": "python",
   "name": "python3"
  },
  "language_info": {
   "codemirror_mode": {
    "name": "ipython",
    "version": 3
   },
   "file_extension": ".py",
   "mimetype": "text/x-python",
   "name": "python",
   "nbconvert_exporter": "python",
   "pygments_lexer": "ipython3",
   "version": "3.10.8"
  }
 },
 "nbformat": 4,
 "nbformat_minor": 5
}
