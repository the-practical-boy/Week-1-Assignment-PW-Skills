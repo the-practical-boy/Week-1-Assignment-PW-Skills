{
 "cells": [
  {
   "cell_type": "code",
   "execution_count": 4,
   "id": "2d09a9ac-0ab4-486f-9c70-7f8863005752",
   "metadata": {},
   "outputs": [],
   "source": [
    "l=[1,\"Potato\",3,'aq',7,True,7.99,-29,'&']"
   ]
  },
  {
   "cell_type": "code",
   "execution_count": 5,
   "id": "830dca01-7c3f-49eb-8019-6a00bdae6a88",
   "metadata": {},
   "outputs": [
    {
     "name": "stdout",
     "output_type": "stream",
     "text": [
      "<class 'int'>\n",
      "1 \n",
      "\n",
      "<class 'str'>\n",
      "Potato \n",
      "\n",
      "<class 'int'>\n",
      "3 \n",
      "\n",
      "<class 'str'>\n",
      "aq \n",
      "\n",
      "<class 'int'>\n",
      "7 \n",
      "\n",
      "<class 'bool'>\n",
      "True \n",
      "\n",
      "<class 'float'>\n",
      "7.99 \n",
      "\n",
      "<class 'int'>\n",
      "-29 \n",
      "\n",
      "<class 'str'>\n",
      "& \n",
      "\n"
     ]
    }
   ],
   "source": [
    "for i in l:\n",
    "    print(type(i))\n",
    "    print(i,'\\n')\n",
    "    "
   ]
  },
  {
   "cell_type": "code",
   "execution_count": null,
   "id": "39e9682e-8168-4404-bc6c-b1017f3e8597",
   "metadata": {},
   "outputs": [],
   "source": []
  }
 ],
 "metadata": {
  "kernelspec": {
   "display_name": "Python 3 (ipykernel)",
   "language": "python",
   "name": "python3"
  },
  "language_info": {
   "codemirror_mode": {
    "name": "ipython",
    "version": 3
   },
   "file_extension": ".py",
   "mimetype": "text/x-python",
   "name": "python",
   "nbconvert_exporter": "python",
   "pygments_lexer": "ipython3",
   "version": "3.10.8"
  }
 },
 "nbformat": 4,
 "nbformat_minor": 5
}
