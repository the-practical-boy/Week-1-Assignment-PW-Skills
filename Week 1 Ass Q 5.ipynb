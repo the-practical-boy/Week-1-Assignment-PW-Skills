{
 "cells": [
  {
   "cell_type": "code",
   "execution_count": 1,
   "id": "c7b21a8e-ab8a-4227-8df7-702ca35a1bce",
   "metadata": {},
   "outputs": [
    {
     "name": "stdin",
     "output_type": "stream",
     "text": [
      "Enter Dividend 45\n",
      "Enter divisor 5\n"
     ]
    }
   ],
   "source": [
    "i=int(input(\"Enter Dividend\"))\n",
    "j=int(input(\"Enter divisor\"))"
   ]
  },
  {
   "cell_type": "code",
   "execution_count": null,
   "id": "103d0d75-abcf-4ce0-aaad-e604383d01c4",
   "metadata": {
    "jupyter": {
     "source_hidden": true
    },
    "tags": []
   },
   "outputs": [],
   "source": [
    "c=0\n",
    "while i>=0:\n",
    "    if i%j==0:\n",
    "        c+=1\n",
    "        i/=j\n",
    "    else:\n",
    "        break       "
   ]
  },
  {
   "cell_type": "code",
   "execution_count": null,
   "id": "69b10ac0-3abd-4800-8559-62f49bf26609",
   "metadata": {},
   "outputs": [
    {
     "name": "stdout",
     "output_type": "stream",
     "text": [
      "Number is divisible 1 times\n"
     ]
    }
   ],
   "source": [
    "if c==0:\n",
    "    print('Number is not divisible')\n",
    "else:\n",
    "    print('Number is divisible %d times' %c)"
   ]
  },
  {
   "cell_type": "code",
   "execution_count": null,
   "id": "a598dbd3-eb85-4a80-97de-cef687ec2155",
   "metadata": {},
   "outputs": [],
   "source": []
  }
 ],
 "metadata": {
  "kernelspec": {
   "display_name": "Python 3 (ipykernel)",
   "language": "python",
   "name": "python3"
  },
  "language_info": {
   "codemirror_mode": {
    "name": "ipython",
    "version": 3
   },
   "file_extension": ".py",
   "mimetype": "text/x-python",
   "name": "python",
   "nbconvert_exporter": "python",
   "pygments_lexer": "ipython3",
   "version": "3.10.8"
  }
 },
 "nbformat": 4,
 "nbformat_minor": 5
}
