{
 "cells": [
  {
   "cell_type": "code",
   "execution_count": 1,
   "id": "2dd37410-0dcf-48bb-9f62-1182aa1569ba",
   "metadata": {},
   "outputs": [
    {
     "data": {
      "text/plain": [
       "'Q2. Given are some following variables containing data:\\n(i) var1 = ‘ ‘\\n(ii) var2 = ‘[ DS , ML , Python]’\\n(iii) var3 = [ ‘DS’ , ’ML’ , ‘Python’ ]\\n(iv) var4 = 1.'"
      ]
     },
     "execution_count": 1,
     "metadata": {},
     "output_type": "execute_result"
    }
   ],
   "source": [
    "'''Q2. Given are some following variables containing data:\n",
    "(i) var1 = ‘ ‘\n",
    "(ii) var2 = ‘[ DS , ML , Python]’\n",
    "(iii) var3 = [ ‘DS’ , ’ML’ , ‘Python’ ]\n",
    "(iv) var4 = 1.'''\n",
    "\n"
   ]
  },
  {
   "cell_type": "code",
   "execution_count": null,
   "id": "63584c10-abb7-4202-8143-2b4be29c2c09",
   "metadata": {},
   "outputs": [],
   "source": [
    "''' ANSWERS\n",
    "\n",
    "1. string\n",
    "2. string\n",
    "3. list\n",
    "4. int"
   ]
  }
 ],
 "metadata": {
  "kernelspec": {
   "display_name": "Python 3 (ipykernel)",
   "language": "python",
   "name": "python3"
  },
  "language_info": {
   "codemirror_mode": {
    "name": "ipython",
    "version": 3
   },
   "file_extension": ".py",
   "mimetype": "text/x-python",
   "name": "python",
   "nbconvert_exporter": "python",
   "pygments_lexer": "ipython3",
   "version": "3.10.8"
  }
 },
 "nbformat": 4,
 "nbformat_minor": 5
}
