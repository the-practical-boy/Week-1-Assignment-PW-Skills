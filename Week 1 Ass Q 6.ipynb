{
 "cells": [
  {
   "cell_type": "code",
   "execution_count": null,
   "id": "f1db21e8-875f-4737-b322-be4c8093d7cb",
   "metadata": {},
   "outputs": [
    {
     "name": "stdin",
     "output_type": "stream",
     "text": [
      "Enter number 1\n",
      "Enter number 2\n",
      "Enter number 3\n",
      "Enter number 4\n",
      "Enter number 5\n",
      "Enter number 6\n",
      "Enter number 7\n",
      "Enter number 8\n",
      "Enter number 9\n",
      "Enter number 10\n",
      "Enter number 11\n",
      "Enter number 12\n",
      "Enter number 13\n",
      "Enter number 14\n",
      "Enter number 15\n",
      "Enter number 16\n",
      "Enter number 17\n",
      "Enter number 23\n",
      "Enter number 22\n",
      "Enter number 45\n",
      "Enter number 32\n",
      "Enter number 72\n",
      "Enter number 50\n"
     ]
    }
   ],
   "source": [
    "l=list()\n",
    "\n",
    "for i in range(25):\n",
    "    l.append(int(input(\"Enter number\")))"
   ]
  },
  {
   "cell_type": "code",
   "execution_count": null,
   "id": "02f322bc-d843-4f9e-88fd-dbc5fba5ad0c",
   "metadata": {},
   "outputs": [],
   "source": []
  },
  {
   "cell_type": "code",
   "execution_count": null,
   "id": "65e2fc70-3c38-4cc4-9ac4-936cc10df346",
   "metadata": {},
   "outputs": [],
   "source": []
  },
  {
   "cell_type": "code",
   "execution_count": null,
   "id": "41478d54-6294-4f8d-8fa8-31049d5f9ed3",
   "metadata": {},
   "outputs": [],
   "source": []
  }
 ],
 "metadata": {
  "kernelspec": {
   "display_name": "Python 3 (ipykernel)",
   "language": "python",
   "name": "python3"
  },
  "language_info": {
   "codemirror_mode": {
    "name": "ipython",
    "version": 3
   },
   "file_extension": ".py",
   "mimetype": "text/x-python",
   "name": "python",
   "nbconvert_exporter": "python",
   "pygments_lexer": "ipython3",
   "version": "3.10.8"
  }
 },
 "nbformat": 4,
 "nbformat_minor": 5
}
