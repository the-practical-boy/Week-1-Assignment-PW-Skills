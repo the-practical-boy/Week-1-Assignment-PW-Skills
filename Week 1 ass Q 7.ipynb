{
 "cells": [
  {
   "cell_type": "code",
   "execution_count": null,
   "id": "0119980e-16c4-4d0e-a1a4-ffe8a19344cb",
   "metadata": {},
   "outputs": [],
   "source": [
    "'''\n",
    "1. Mutable objects: Those objects in which its indexed items can be mutated or changed. For example List and dictionaries\n",
    "2. Immutable objects: These objects in which \n",
    "'''"
   ]
  }
 ],
 "metadata": {
  "kernelspec": {
   "display_name": "Python 3 (ipykernel)",
   "language": "python",
   "name": "python3"
  },
  "language_info": {
   "codemirror_mode": {
    "name": "ipython",
    "version": 3
   },
   "file_extension": ".py",
   "mimetype": "text/x-python",
   "name": "python",
   "nbconvert_exporter": "python",
   "pygments_lexer": "ipython3",
   "version": "3.10.8"
  }
 },
 "nbformat": 4,
 "nbformat_minor": 5
}
